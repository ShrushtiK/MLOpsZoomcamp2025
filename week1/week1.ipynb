{
 "cells": [
  {
   "cell_type": "code",
   "execution_count": 40,
   "id": "48aa521d",
   "metadata": {},
   "outputs": [],
   "source": [
    "import pandas as pd\n",
    "from sklearn.feature_extraction import DictVectorizer\n",
    "from sklearn.linear_model import LinearRegression\n",
    "from sklearn.metrics import mean_squared_error\n",
    "import numpy as np"
   ]
  },
  {
   "cell_type": "code",
   "execution_count": 41,
   "id": "652dd7fc",
   "metadata": {},
   "outputs": [],
   "source": [
    "def df_prepare(df):\n",
    "    df['tpep_pickup_datetime'] = pd.to_datetime(df['tpep_pickup_datetime'])\n",
    "    df['tpep_dropoff_datetime'] = pd.to_datetime(df['tpep_dropoff_datetime'])\n",
    "    df['duration'] = (df['tpep_dropoff_datetime'] - df['tpep_pickup_datetime']).dt.total_seconds() / 60\n",
    "    return df\n",
    "\n",
    "def filter_duration(df, min_duration=1, max_duration=60):\n",
    "    return df[(df['duration'] >= min_duration) & (df['duration'] <= max_duration)].copy()\n",
    "\n",
    "def transform_features(df, dv=None, fit=True):\n",
    "    df['PULocationID'] = df['PULocationID'].astype(str)\n",
    "    df['DOLocationID'] = df['DOLocationID'].astype(str)\n",
    "    dicts = df[['PULocationID', 'DOLocationID']].to_dict(orient='records')\n",
    "    if fit:\n",
    "        dv = DictVectorizer()\n",
    "        X = dv.fit_transform(dicts)\n",
    "        return X, dv\n",
    "    else:\n",
    "        X = dv.transform(dicts)\n",
    "        return X\n",
    "\n",
    "def train_and_evaluate(X, y):\n",
    "    model = LinearRegression()\n",
    "    model.fit(X, y)\n",
    "    preds = model.predict(X)\n",
    "    rmse = mean_squared_error(y, preds, squared=False)\n",
    "    return model, rmse"
   ]
  },
  {
   "cell_type": "code",
   "execution_count": 42,
   "id": "3c624674",
   "metadata": {},
   "outputs": [
    {
     "name": "stdout",
     "output_type": "stream",
     "text": [
      "Question 1, number of columns:  19\n"
     ]
    }
   ],
   "source": [
    "df = pd.read_parquet('yellow_tripdata_2023-01.parquet')\n",
    "print(\"Question 1, number of columns: \", len(df.columns))"
   ]
  },
  {
   "cell_type": "code",
   "execution_count": 43,
   "id": "11841c1b",
   "metadata": {},
   "outputs": [
    {
     "name": "stdout",
     "output_type": "stream",
     "text": [
      "Question 2, standard deviation: 42.59 minutes\n"
     ]
    }
   ],
   "source": [
    "df_train = df_prepare(df)\n",
    "std_january_duration = df_train['duration'].std()\n",
    "print(f\"Question 2, standard deviation: {std_january_duration:.2f} minutes\")"
   ]
  },
  {
   "cell_type": "code",
   "execution_count": 46,
   "id": "98dbc8d6",
   "metadata": {},
   "outputs": [
    {
     "name": "stdout",
     "output_type": "stream",
     "text": [
      "Question 3, Fraction of records left after removing outliers: 98.12%\n"
     ]
    }
   ],
   "source": [
    "df_train_filtered = filter_duration(df_train)\n",
    "print(f\"Question 3, Fraction of records left after removing outliers: {(len(df_train_filtered) *100 / len(df_train)):.2f}%\")"
   ]
  },
  {
   "cell_type": "code",
   "execution_count": 47,
   "id": "58d94ee7",
   "metadata": {},
   "outputs": [
    {
     "name": "stdout",
     "output_type": "stream",
     "text": [
      "Question 4, dimensionality of feature matrix: 515\n"
     ]
    }
   ],
   "source": [
    "X_train, dv = transform_features(df_train_filtered, fit=True)\n",
    "print(f\"Question 4, dimensionality of feature matrix: {X_train.shape[1]}\")"
   ]
  },
  {
   "cell_type": "code",
   "execution_count": 48,
   "id": "c49595cf",
   "metadata": {},
   "outputs": [
    {
     "name": "stdout",
     "output_type": "stream",
     "text": [
      "Question 5, RMSE on train: 7.65 minutes\n"
     ]
    }
   ],
   "source": [
    "y_train = df_train_filtered['duration'].values\n",
    "model, rmse_train = train_and_evaluate(X_train, y_train)\n",
    "print(f\"Question 5, RMSE on train: {rmse_train:.2f} minutes\")"
   ]
  },
  {
   "cell_type": "code",
   "execution_count": 49,
   "id": "ea4a236b",
   "metadata": {},
   "outputs": [
    {
     "name": "stdout",
     "output_type": "stream",
     "text": [
      "Question 6, validation RMSE: 7.81 minutes\n"
     ]
    }
   ],
   "source": [
    "val = pd.read_parquet('yellow_tripdata_2023-02.parquet')\n",
    "df_val = df_prepare(val)\n",
    "df_val_filtered = filter_duration(df_val)\n",
    "X_val = transform_features(df_val_filtered, dv=dv, fit=False)\n",
    "y_val = df_val_filtered['duration'].values\n",
    "y_val_pred = model.predict(X_val)\n",
    "rmse_val = mean_squared_error(y_val, y_val_pred, squared=False)\n",
    "print(f\"Question 6, validation RMSE: {rmse_val:.2f} minutes\")"
   ]
  },
  {
   "cell_type": "code",
   "execution_count": null,
   "id": "679a552a",
   "metadata": {},
   "outputs": [],
   "source": []
  }
 ],
 "metadata": {
  "kernelspec": {
   "display_name": "Python 3 (ipykernel)",
   "language": "python",
   "name": "python3"
  },
  "language_info": {
   "codemirror_mode": {
    "name": "ipython",
    "version": 3
   },
   "file_extension": ".py",
   "mimetype": "text/x-python",
   "name": "python",
   "nbconvert_exporter": "python",
   "pygments_lexer": "ipython3",
   "version": "3.11.5"
  }
 },
 "nbformat": 4,
 "nbformat_minor": 5
}
